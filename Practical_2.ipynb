{
  "nbformat": 4,
  "nbformat_minor": 0,
  "metadata": {
    "colab": {
      "provenance": [],
      "authorship_tag": "ABX9TyOsyWzh8m+dJTqLblGAGLhY",
      "include_colab_link": true
    },
    "kernelspec": {
      "name": "python3",
      "display_name": "Python 3"
    },
    "language_info": {
      "name": "python"
    }
  },
  "cells": [
    {
      "cell_type": "markdown",
      "metadata": {
        "id": "view-in-github",
        "colab_type": "text"
      },
      "source": [
        "<a href=\"https://colab.research.google.com/github/PriyamvadaSingh-B/EXPLAINABLE-AI-B-45/blob/main/Practical_2.ipynb\" target=\"_parent\"><img src=\"https://colab.research.google.com/assets/colab-badge.svg\" alt=\"Open In Colab\"/></a>"
      ]
    },
    {
      "cell_type": "code",
      "execution_count": 1,
      "metadata": {
        "colab": {
          "base_uri": "https://localhost:8080/"
        },
        "id": "0vdZYoJK4A_-",
        "outputId": "a117ab45-3b4a-427f-c3ec-db48c70f46a1"
      },
      "outputs": [
        {
          "output_type": "stream",
          "name": "stdout",
          "text": [
            "Final Weights: [-0.5   1.15  0.55]\n"
          ]
        }
      ],
      "source": [
        "import numpy as np\n",
        "X = np.array([\n",
        "    [0.4, 0.5],\n",
        "    [0.3, 0.8],\n",
        "    [0.2, 0.9],\n",
        "    [0.1, 0.1]\n",
        "])\n",
        "y = np.array([1, 1, 1, 0])\n",
        "\n",
        "alpha = 0.5\n",
        "w0 = 0\n",
        "w1 = 1.2\n",
        "w2 = 0.6\n",
        "\n",
        "weights = np.array([w0, w1, w2])\n",
        "\n",
        "def activation(I):\n",
        "    return 1 if I > 0 else 0\n",
        "for xi, target in zip(X, y):\n",
        "    I = weights[0]*1 + weights[1]*xi[0] + weights[2]*xi[1]\n",
        "    y_pred = activation(I)\n",
        "    if y_pred != target:\n",
        "        weights[0] += alpha * (target - y_pred) * 1\n",
        "        weights[1] += alpha * (target - y_pred) * xi[0]\n",
        "        weights[2] += alpha * (target - y_pred) * xi[1]\n",
        "\n",
        "print(\"Final Weights:\", weights)"
      ]
    },
    {
      "cell_type": "code",
      "source": [],
      "metadata": {
        "id": "Bte98yyq8W40"
      },
      "execution_count": null,
      "outputs": []
    }
  ]
}